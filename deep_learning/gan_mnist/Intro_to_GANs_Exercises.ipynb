{
 "cells": [
  {
   "cell_type": "markdown",
   "metadata": {},
   "source": [
    "# Generative Adversarial Network\n",
    "\n",
    "In this notebook, we'll be building a generative adversarial network (GAN) trained on the MNIST dataset. From this, we'll be able to generate new handwritten digits!\n",
    "\n",
    "GANs were [first reported on](https://arxiv.org/abs/1406.2661) in 2014 from Ian Goodfellow and others in Yoshua Bengio's lab. Since then, GANs have exploded in popularity. Here are a few examples to check out:\n",
    "\n",
    "* [Pix2Pix](https://affinelayer.com/pixsrv/) \n",
    "* [CycleGAN](https://github.com/junyanz/CycleGAN)\n",
    "* [A whole list](https://github.com/wiseodd/generative-models)\n",
    "\n",
    "The idea behind GANs is that you have two networks, a generator $G$ and a discriminator $D$, competing against each other. The generator makes fake data to pass to the discriminator. The discriminator also sees real data and predicts if the data it's received is real or fake. The generator is trained to fool the discriminator, it wants to output data that looks _as close as possible_ to real data. And the discriminator is trained to figure out which data is real and which is fake. What ends up happening is that the generator learns to make data that is indistiguishable from real data to the discriminator.\n",
    "\n",
    "![GAN diagram](assets/gan_diagram.png)\n",
    "\n",
    "The general structure of a GAN is shown in the diagram above, using MNIST images as data. The latent sample is a random vector the generator uses to contruct it's fake images. As the generator learns through training, it figures out how to map these random vectors to recognizable images that can fool the discriminator.\n",
    "\n",
    "The output of the discriminator is a sigmoid function, where 0 indicates a fake image and 1 indicates an real image. If you're interested only in generating new images, you can throw out the discriminator after training. Now, let's see how we build this thing in TensorFlow."
   ]
  },
  {
   "cell_type": "code",
   "execution_count": 1,
   "metadata": {},
   "outputs": [
    {
     "name": "stderr",
     "output_type": "stream",
     "text": [
      "C:\\Users\\lobov\\Anaconda3\\envs\\tfgpu\\lib\\site-packages\\h5py\\__init__.py:36: FutureWarning: Conversion of the second argument of issubdtype from `float` to `np.floating` is deprecated. In future, it will be treated as `np.float64 == np.dtype(float).type`.\n",
      "  from ._conv import register_converters as _register_converters\n"
     ]
    }
   ],
   "source": [
    "%matplotlib inline\n",
    "\n",
    "import pickle as pkl\n",
    "import numpy as np\n",
    "import tensorflow as tf\n",
    "import matplotlib.pyplot as plt"
   ]
  },
  {
   "cell_type": "code",
   "execution_count": 2,
   "metadata": {},
   "outputs": [
    {
     "name": "stdout",
     "output_type": "stream",
     "text": [
      "Successfully downloaded train-images-idx3-ubyte.gz 9912422 bytes.\n",
      "Extracting MNIST_data\\train-images-idx3-ubyte.gz\n",
      "Successfully downloaded train-labels-idx1-ubyte.gz 28881 bytes.\n",
      "Extracting MNIST_data\\train-labels-idx1-ubyte.gz\n",
      "Successfully downloaded t10k-images-idx3-ubyte.gz 1648877 bytes.\n",
      "Extracting MNIST_data\\t10k-images-idx3-ubyte.gz\n",
      "Successfully downloaded t10k-labels-idx1-ubyte.gz 4542 bytes.\n",
      "Extracting MNIST_data\\t10k-labels-idx1-ubyte.gz\n"
     ]
    }
   ],
   "source": [
    "from tensorflow.examples.tutorials.mnist import input_data\n",
    "mnist = input_data.read_data_sets('MNIST_data')"
   ]
  },
  {
   "cell_type": "markdown",
   "metadata": {},
   "source": [
    "## Model Inputs\n",
    "\n",
    "First we need to create the inputs for our graph. We need two inputs, one for the discriminator and one for the generator. Here we'll call the discriminator input `inputs_real` and the generator input `inputs_z`. We'll assign them the appropriate sizes for each of the networks.\n",
    "\n",
    ">**Exercise:** Finish the `model_inputs` function below. Create the placeholders for `inputs_real` and `inputs_z` using the input sizes `real_dim` and `z_dim` respectively."
   ]
  },
  {
   "cell_type": "code",
   "execution_count": 4,
   "metadata": {},
   "outputs": [],
   "source": [
    "def model_inputs(real_dim, z_dim):\n",
    "    inputs_real = tf.placeholder(tf.float32, (None, real_dim), name = 'inputs_real')\n",
    "    inputs_z = tf.placeholder(tf.float32, (None, z_dim), name = 'inputs_z')\n",
    "    \n",
    "    return inputs_real, inputs_z"
   ]
  },
  {
   "cell_type": "markdown",
   "metadata": {},
   "source": [
    "## Generator network\n",
    "\n",
    "![GAN Network](assets/gan_network.png)\n",
    "\n",
    "Here we'll build the generator network. To make this network a universal function approximator, we'll need at least one hidden layer. We should use a leaky ReLU to allow gradients to flow backwards through the layer unimpeded. A leaky ReLU is like a normal ReLU, except that there is a small non-zero output for negative input values.\n",
    "\n",
    "#### Variable Scope\n",
    "Here we need to use `tf.variable_scope` for two reasons. Firstly, we're going to make sure all the variable names start with `generator`. Similarly, we'll prepend `discriminator` to the discriminator variables. This will help out later when we're training the separate networks.\n",
    "\n",
    "We could just use `tf.name_scope` to set the names, but we also want to reuse these networks with different inputs. For the generator, we're going to train it, but also _sample from it_ as we're training and after training. The discriminator will need to share variables between the fake and real input images. So, we can use the `reuse` keyword for `tf.variable_scope` to tell TensorFlow to reuse the variables instead of creating new ones if we build the graph again.\n",
    "\n",
    "To use `tf.variable_scope`, you use a `with` statement:\n",
    "```python\n",
    "with tf.variable_scope('scope_name', reuse=False):\n",
    "    # code here\n",
    "```\n",
    "\n",
    "Here's more from [the TensorFlow documentation](https://www.tensorflow.org/programmers_guide/variable_scope#the_problem) to get another look at using `tf.variable_scope`.\n",
    "\n",
    "#### Leaky ReLU\n",
    "TensorFlow doesn't provide an operation for leaky ReLUs, so we'll need to make one . For this you can just take the outputs from a linear fully connected layer and pass them to `tf.maximum`. Typically, a parameter `alpha` sets the magnitude of the output for negative values. So, the output for negative input (`x`) values is `alpha*x`, and the output for positive `x` is `x`:\n",
    "$$\n",
    "f(x) = max(\\alpha * x, x)\n",
    "$$\n",
    "\n",
    "#### Tanh Output\n",
    "The generator has been found to perform the best with $tanh$ for the generator output. This means that we'll have to rescale the MNIST images to be between -1 and 1, instead of 0 and 1.\n",
    "\n",
    ">**Exercise:** Implement the generator network in the function below. You'll need to return the tanh output. Make sure to wrap your code in a variable scope, with 'generator' as the scope name, and pass the `reuse` keyword argument from the function to `tf.variable_scope`."
   ]
  },
  {
   "cell_type": "code",
   "execution_count": 6,
   "metadata": {},
   "outputs": [],
   "source": [
    "def generator(z, out_dim, n_units=128, reuse=False,  alpha=0.01):\n",
    "    ''' Build the generator network.\n",
    "    \n",
    "        Arguments\n",
    "        ---------\n",
    "        z : Input tensor for the generator\n",
    "        out_dim : Shape of the generator output\n",
    "        n_units : Number of units in hidden layer\n",
    "        reuse : Reuse the variables with tf.variable_scope\n",
    "        alpha : leak parameter for leaky ReLU\n",
    "        \n",
    "        Returns\n",
    "        -------\n",
    "        out: \n",
    "    '''\n",
    "    with tf.variable_scope('generator', reuse = reuse): # finish this\n",
    "        # Hidden layer\n",
    "        h1 = tf.layers.dense(z, n_units, activation = None)\n",
    "        # Leaky ReLU\n",
    "        h1 = tf.maximum(alpha * h1, h1)\n",
    "        \n",
    "        # Logits and tanh output\n",
    "        logits = tf.layers.dense(h1, out_dim)\n",
    "        out = tf.tanh(logits)\n",
    "        \n",
    "        return out, logits"
   ]
  },
  {
   "cell_type": "markdown",
   "metadata": {},
   "source": [
    "## Discriminator\n",
    "\n",
    "The discriminator network is almost exactly the same as the generator network, except that we're using a sigmoid output layer.\n",
    "\n",
    ">**Exercise:** Implement the discriminator network in the function below. Same as above, you'll need to return both the logits and the sigmoid output. Make sure to wrap your code in a variable scope, with 'discriminator' as the scope name, and pass the `reuse` keyword argument from the function arguments to `tf.variable_scope`."
   ]
  },
  {
   "cell_type": "code",
   "execution_count": 9,
   "metadata": {},
   "outputs": [],
   "source": [
    "def discriminator(x, n_units=128, reuse=False, alpha=0.01):\n",
    "    ''' Build the discriminator network.\n",
    "    \n",
    "        Arguments\n",
    "        ---------\n",
    "        x : Input tensor for the discriminator\n",
    "        n_units: Number of units in hidden layer\n",
    "        reuse : Reuse the variables with tf.variable_scope\n",
    "        alpha : leak parameter for leaky ReLU\n",
    "        \n",
    "        Returns\n",
    "        -------\n",
    "        out, logits: \n",
    "    '''\n",
    "    with tf.variable_scope('discriminator', reuse = reuse): # finish this\n",
    "        # Hidden layer\n",
    "        h1 = tf.layers.dense(x, n_units, activation = None)\n",
    "        # Leaky ReLU\n",
    "        h1 = tf.maximum(alpha * h1, h1)\n",
    "        \n",
    "        logits = tf.layers.dense(h1, 1, activation = None)\n",
    "        out = tf.sigmoid(logits)\n",
    "        \n",
    "        return out, logits"
   ]
  },
  {
   "cell_type": "markdown",
   "metadata": {},
   "source": [
    "## Hyperparameters"
   ]
  },
  {
   "cell_type": "code",
   "execution_count": 10,
   "metadata": {},
   "outputs": [],
   "source": [
    "# Size of input image to discriminator\n",
    "input_size = 784 # 28x28 MNIST images flattened\n",
    "# Size of latent vector to generator\n",
    "z_size = 100\n",
    "# Sizes of hidden layers in generator and discriminator\n",
    "g_hidden_size = 128\n",
    "d_hidden_size = 128\n",
    "# Leak factor for leaky ReLU\n",
    "alpha = 0.01\n",
    "# Label smoothing \n",
    "smooth = 0.1"
   ]
  },
  {
   "cell_type": "markdown",
   "metadata": {},
   "source": [
    "## Build network\n",
    "\n",
    "Now we're building the network from the functions defined above.\n",
    "\n",
    "First is to get our inputs, `input_real, input_z` from `model_inputs` using the sizes of the input and z.\n",
    "\n",
    "Then, we'll create the generator, `generator(input_z, input_size)`. This builds the generator with the appropriate input and output sizes.\n",
    "\n",
    "Then the discriminators. We'll build two of them, one for real data and one for fake data. Since we want the weights to be the same for both real and fake data, we need to reuse the variables. For the fake data, we're getting it from the generator as `g_model`. So the real data discriminator is `discriminator(input_real)` while the fake discriminator is `discriminator(g_model, reuse=True)`.\n",
    "\n",
    ">**Exercise:** Build the network from the functions you defined earlier."
   ]
  },
  {
   "cell_type": "code",
   "execution_count": 12,
   "metadata": {},
   "outputs": [],
   "source": [
    "tf.reset_default_graph()\n",
    "# Create our input placeholders\n",
    "input_real, input_z = model_inputs(input_size, z_size)\n",
    "\n",
    "# Generator network here\n",
    "g_model, g_logits = generator(input_z, input_size, n_units = g_hidden_size, reuse=False,  alpha=alpha)\n",
    "# g_model is the generator output\n",
    "\n",
    "# Disriminator network here\n",
    "d_model_real, d_logits_real = discriminator(input_real, n_units=d_hidden_size, reuse=False, alpha=alpha)\n",
    "d_model_fake, d_logits_fake = discriminator(g_model, n_units=d_hidden_size, reuse=True, alpha=alpha)"
   ]
  },
  {
   "cell_type": "markdown",
   "metadata": {},
   "source": [
    "## Discriminator and Generator Losses\n",
    "\n",
    "Now we need to calculate the losses, which is a little tricky. For the discriminator, the total loss is the sum of the losses for real and fake images, `d_loss = d_loss_real + d_loss_fake`. The losses will be sigmoid cross-entropies, which we can get with `tf.nn.sigmoid_cross_entropy_with_logits`. We'll also wrap that in `tf.reduce_mean` to get the mean for all the images in the batch. So the losses will look something like \n",
    "\n",
    "```python\n",
    "tf.reduce_mean(tf.nn.sigmoid_cross_entropy_with_logits(logits=logits, labels=labels))\n",
    "```\n",
    "\n",
    "For the real image logits, we'll use `d_logits_real` which we got from the discriminator in the cell above. For the labels, we want them to be all ones, since these are all real images. To help the discriminator generalize better, the labels are reduced a bit from 1.0 to 0.9, for example,  using the parameter `smooth`. This is known as label smoothing, typically used with classifiers to improve performance. In TensorFlow, it looks something like `labels = tf.ones_like(tensor) * (1 - smooth)`\n",
    "\n",
    "The discriminator loss for the fake data is similar. The logits are `d_logits_fake`, which we got from passing the generator output to the discriminator. These fake logits are used with labels of all zeros. Remember that we want the discriminator to output 1 for real images and 0 for fake images, so we need to set up the losses to reflect that.\n",
    "\n",
    "Finally, the generator losses are using `d_logits_fake`, the fake image logits. But, now the labels are all ones. The generator is trying to fool the discriminator, so it wants to discriminator to output ones for fake images.\n",
    "\n",
    ">**Exercise:** Calculate the losses for the discriminator and the generator. There are two discriminator losses, one for real images and one for fake images. For the real image loss, use the real logits and (smoothed) labels of ones. For the fake image loss, use the fake logits with labels of all zeros. The total discriminator loss is the sum of those two losses. Finally, the generator loss again uses the fake logits from the discriminator, but this time the labels are all ones because the generator wants to fool the discriminator."
   ]
  },
  {
   "cell_type": "code",
   "execution_count": 16,
   "metadata": {},
   "outputs": [],
   "source": [
    "# Calculate losses\n",
    "labels_real = tf.ones_like(d_logits_real) * (1 - smooth)\n",
    "labels_fake = tf.zeros_like(d_logits_real)# * smooth\n",
    "labels_real_fake = tf.ones_like(d_logits_fake)\n",
    "\n",
    "d_loss_real = tf.reduce_mean(tf.nn.sigmoid_cross_entropy_with_logits(logits = d_logits_real, labels = labels_real))\n",
    "d_loss_fake = tf.reduce_mean(tf.nn.sigmoid_cross_entropy_with_logits(logits = d_logits_fake, labels = labels_fake))\n",
    "\n",
    "d_loss = d_loss_real + d_loss_fake\n",
    "\n",
    "g_loss = tf.reduce_mean(tf.nn.sigmoid_cross_entropy_with_logits(logits = d_logits_fake, labels = labels_real_fake))"
   ]
  },
  {
   "cell_type": "markdown",
   "metadata": {},
   "source": [
    "## Optimizers\n",
    "\n",
    "We want to update the generator and discriminator variables separately. So we need to get the variables for each part and build optimizers for the two parts. To get all the trainable variables, we use `tf.trainable_variables()`. This creates a list of all the variables we've defined in our graph.\n",
    "\n",
    "For the generator optimizer, we only want to generator variables. Our past selves were nice and used a variable scope to start all of our generator variable names with `generator`. So, we just need to iterate through the list from `tf.trainable_variables()` and keep variables that start with `generator`. Each variable object has an attribute `name` which holds the name of the variable as a string (`var.name == 'weights_0'` for instance). \n",
    "\n",
    "We can do something similar with the discriminator. All the variables in the discriminator start with `discriminator`.\n",
    "\n",
    "Then, in the optimizer we pass the variable lists to the `var_list` keyword argument of the `minimize` method. This tells the optimizer to only update the listed variables. Something like `tf.train.AdamOptimizer().minimize(loss, var_list=var_list)` will only train the variables in `var_list`.\n",
    "\n",
    ">**Exercise: ** Below, implement the optimizers for the generator and discriminator. First you'll need to get a list of trainable variables, then split that list into two lists, one for the generator variables and another for the discriminator variables. Finally, using `AdamOptimizer`, create an optimizer for each network that update the network variables separately."
   ]
  },
  {
   "cell_type": "code",
   "execution_count": 24,
   "metadata": {
    "scrolled": true
   },
   "outputs": [],
   "source": [
    "# Optimizers\n",
    "learning_rate = 0.002\n",
    "\n",
    "# Get the trainable_variables, split into G and D parts\n",
    "t_vars = tf.trainable_variables()\n",
    "\n",
    "g_vars = [var for var in t_vars if var.name.startswith('generator')]\n",
    "d_vars = [var for var in t_vars if var.name.startswith('discriminator')]\n",
    "\n",
    "\n",
    "d_train_opt = tf.train.AdamOptimizer(learning_rate).minimize(d_loss, var_list = d_vars)\n",
    "g_train_opt = tf.train.AdamOptimizer(learning_rate).minimize(g_loss, var_list = g_vars)"
   ]
  },
  {
   "cell_type": "markdown",
   "metadata": {},
   "source": [
    "## Training"
   ]
  },
  {
   "cell_type": "code",
   "execution_count": 25,
   "metadata": {
    "scrolled": true
   },
   "outputs": [
    {
     "name": "stdout",
     "output_type": "stream",
     "text": [
      "Epoch 1/200... Discriminator Loss: 0.3615... Generator Loss: 3.6557\n",
      "Epoch 2/200... Discriminator Loss: 0.4425... Generator Loss: 2.5680\n",
      "Epoch 3/200... Discriminator Loss: 0.5790... Generator Loss: 2.3545\n",
      "Epoch 4/200... Discriminator Loss: 1.2343... Generator Loss: 4.6424\n",
      "Epoch 5/200... Discriminator Loss: 2.3040... Generator Loss: 4.3331\n",
      "Epoch 6/200... Discriminator Loss: 1.0208... Generator Loss: 1.5966\n",
      "Epoch 7/200... Discriminator Loss: 1.3462... Generator Loss: 1.8732\n",
      "Epoch 8/200... Discriminator Loss: 2.1576... Generator Loss: 1.8049\n",
      "Epoch 9/200... Discriminator Loss: 1.7855... Generator Loss: 1.4792\n",
      "Epoch 10/200... Discriminator Loss: 2.2166... Generator Loss: 1.5307\n",
      "Epoch 11/200... Discriminator Loss: 1.2389... Generator Loss: 3.3440\n",
      "Epoch 12/200... Discriminator Loss: 1.1572... Generator Loss: 2.0850\n",
      "Epoch 13/200... Discriminator Loss: 2.4541... Generator Loss: 1.1512\n",
      "Epoch 14/200... Discriminator Loss: 1.3745... Generator Loss: 1.7114\n",
      "Epoch 15/200... Discriminator Loss: 1.0047... Generator Loss: 2.9368\n",
      "Epoch 16/200... Discriminator Loss: 0.6967... Generator Loss: 2.3906\n",
      "Epoch 17/200... Discriminator Loss: 1.3202... Generator Loss: 3.2091\n",
      "Epoch 18/200... Discriminator Loss: 0.8798... Generator Loss: 2.0700\n",
      "Epoch 19/200... Discriminator Loss: 1.2026... Generator Loss: 1.8708\n",
      "Epoch 20/200... Discriminator Loss: 1.4958... Generator Loss: 3.1173\n",
      "Epoch 21/200... Discriminator Loss: 0.6343... Generator Loss: 2.8748\n",
      "Epoch 22/200... Discriminator Loss: 1.2402... Generator Loss: 2.1842\n",
      "Epoch 23/200... Discriminator Loss: 1.0703... Generator Loss: 2.0907\n",
      "Epoch 24/200... Discriminator Loss: 0.7751... Generator Loss: 2.3655\n",
      "Epoch 25/200... Discriminator Loss: 1.0910... Generator Loss: 1.8386\n",
      "Epoch 26/200... Discriminator Loss: 0.8890... Generator Loss: 3.1886\n",
      "Epoch 27/200... Discriminator Loss: 0.8408... Generator Loss: 2.1204\n",
      "Epoch 28/200... Discriminator Loss: 0.8687... Generator Loss: 2.7520\n",
      "Epoch 29/200... Discriminator Loss: 0.8149... Generator Loss: 2.7753\n",
      "Epoch 30/200... Discriminator Loss: 1.0180... Generator Loss: 1.7658\n",
      "Epoch 31/200... Discriminator Loss: 0.9153... Generator Loss: 2.1024\n",
      "Epoch 32/200... Discriminator Loss: 1.0578... Generator Loss: 1.4830\n",
      "Epoch 33/200... Discriminator Loss: 1.0148... Generator Loss: 2.3064\n",
      "Epoch 34/200... Discriminator Loss: 0.8928... Generator Loss: 1.8469\n",
      "Epoch 35/200... Discriminator Loss: 0.7664... Generator Loss: 2.3010\n",
      "Epoch 36/200... Discriminator Loss: 1.0838... Generator Loss: 1.9345\n",
      "Epoch 37/200... Discriminator Loss: 1.0270... Generator Loss: 1.9657\n",
      "Epoch 38/200... Discriminator Loss: 1.0797... Generator Loss: 2.2812\n",
      "Epoch 39/200... Discriminator Loss: 0.8863... Generator Loss: 2.4337\n",
      "Epoch 40/200... Discriminator Loss: 0.8687... Generator Loss: 2.3326\n",
      "Epoch 41/200... Discriminator Loss: 1.1949... Generator Loss: 1.7878\n",
      "Epoch 42/200... Discriminator Loss: 0.7775... Generator Loss: 2.1997\n",
      "Epoch 43/200... Discriminator Loss: 1.0309... Generator Loss: 1.7035\n",
      "Epoch 44/200... Discriminator Loss: 0.9730... Generator Loss: 1.7187\n",
      "Epoch 45/200... Discriminator Loss: 1.0039... Generator Loss: 1.9449\n",
      "Epoch 46/200... Discriminator Loss: 0.8314... Generator Loss: 2.1925\n",
      "Epoch 47/200... Discriminator Loss: 0.9268... Generator Loss: 2.1454\n",
      "Epoch 48/200... Discriminator Loss: 0.9556... Generator Loss: 2.0314\n",
      "Epoch 49/200... Discriminator Loss: 0.9358... Generator Loss: 2.5949\n",
      "Epoch 50/200... Discriminator Loss: 0.9044... Generator Loss: 1.7037\n",
      "Epoch 51/200... Discriminator Loss: 0.9903... Generator Loss: 1.4917\n",
      "Epoch 52/200... Discriminator Loss: 0.9171... Generator Loss: 2.3156\n",
      "Epoch 53/200... Discriminator Loss: 0.8520... Generator Loss: 2.1162\n",
      "Epoch 54/200... Discriminator Loss: 0.8903... Generator Loss: 1.9945\n",
      "Epoch 55/200... Discriminator Loss: 0.7897... Generator Loss: 2.1388\n",
      "Epoch 56/200... Discriminator Loss: 0.8546... Generator Loss: 1.9328\n",
      "Epoch 57/200... Discriminator Loss: 1.0881... Generator Loss: 1.4823\n",
      "Epoch 58/200... Discriminator Loss: 1.0251... Generator Loss: 1.7844\n",
      "Epoch 59/200... Discriminator Loss: 0.8821... Generator Loss: 1.5466\n",
      "Epoch 60/200... Discriminator Loss: 0.9544... Generator Loss: 2.3090\n",
      "Epoch 61/200... Discriminator Loss: 0.9086... Generator Loss: 1.7353\n",
      "Epoch 62/200... Discriminator Loss: 1.0483... Generator Loss: 1.9388\n",
      "Epoch 63/200... Discriminator Loss: 1.0047... Generator Loss: 1.7184\n",
      "Epoch 64/200... Discriminator Loss: 0.9396... Generator Loss: 2.2333\n",
      "Epoch 65/200... Discriminator Loss: 0.9910... Generator Loss: 1.5942\n",
      "Epoch 66/200... Discriminator Loss: 0.9670... Generator Loss: 2.0594\n",
      "Epoch 67/200... Discriminator Loss: 0.9844... Generator Loss: 1.9515\n",
      "Epoch 68/200... Discriminator Loss: 0.8565... Generator Loss: 1.8185\n",
      "Epoch 69/200... Discriminator Loss: 1.0439... Generator Loss: 1.5187\n",
      "Epoch 70/200... Discriminator Loss: 1.0374... Generator Loss: 1.6208\n",
      "Epoch 71/200... Discriminator Loss: 1.0208... Generator Loss: 1.6069\n",
      "Epoch 72/200... Discriminator Loss: 0.9705... Generator Loss: 1.9493\n",
      "Epoch 73/200... Discriminator Loss: 0.9687... Generator Loss: 1.9254\n",
      "Epoch 74/200... Discriminator Loss: 0.9914... Generator Loss: 1.7647\n",
      "Epoch 75/200... Discriminator Loss: 1.0371... Generator Loss: 1.7637\n",
      "Epoch 76/200... Discriminator Loss: 1.0690... Generator Loss: 1.4026\n",
      "Epoch 77/200... Discriminator Loss: 1.1297... Generator Loss: 1.6243\n",
      "Epoch 78/200... Discriminator Loss: 0.9342... Generator Loss: 1.6887\n",
      "Epoch 79/200... Discriminator Loss: 1.0291... Generator Loss: 1.7636\n",
      "Epoch 80/200... Discriminator Loss: 1.0648... Generator Loss: 1.4893\n",
      "Epoch 81/200... Discriminator Loss: 1.0051... Generator Loss: 1.8797\n",
      "Epoch 82/200... Discriminator Loss: 0.9791... Generator Loss: 1.8079\n",
      "Epoch 83/200... Discriminator Loss: 0.7995... Generator Loss: 2.3381\n",
      "Epoch 84/200... Discriminator Loss: 1.0661... Generator Loss: 1.3501\n",
      "Epoch 85/200... Discriminator Loss: 0.9367... Generator Loss: 1.4518\n",
      "Epoch 86/200... Discriminator Loss: 1.0733... Generator Loss: 1.4869\n",
      "Epoch 87/200... Discriminator Loss: 0.9455... Generator Loss: 1.7930\n",
      "Epoch 88/200... Discriminator Loss: 0.9367... Generator Loss: 1.9762\n",
      "Epoch 89/200... Discriminator Loss: 0.9367... Generator Loss: 1.7963\n",
      "Epoch 90/200... Discriminator Loss: 1.0797... Generator Loss: 1.7674\n",
      "Epoch 91/200... Discriminator Loss: 0.9294... Generator Loss: 1.6741\n",
      "Epoch 92/200... Discriminator Loss: 0.9290... Generator Loss: 2.0752\n",
      "Epoch 93/200... Discriminator Loss: 1.1210... Generator Loss: 1.4048\n",
      "Epoch 94/200... Discriminator Loss: 1.0901... Generator Loss: 1.6538\n",
      "Epoch 95/200... Discriminator Loss: 1.0142... Generator Loss: 1.7029\n",
      "Epoch 96/200... Discriminator Loss: 0.9896... Generator Loss: 1.7666\n",
      "Epoch 97/200... Discriminator Loss: 0.8548... Generator Loss: 1.7495\n",
      "Epoch 98/200... Discriminator Loss: 1.0540... Generator Loss: 1.5590\n",
      "Epoch 99/200... Discriminator Loss: 1.1045... Generator Loss: 1.7307\n",
      "Epoch 100/200... Discriminator Loss: 1.0570... Generator Loss: 1.7243\n",
      "Epoch 101/200... Discriminator Loss: 0.9722... Generator Loss: 1.9006\n",
      "Epoch 102/200... Discriminator Loss: 0.8096... Generator Loss: 2.1094\n",
      "Epoch 103/200... Discriminator Loss: 0.9966... Generator Loss: 1.8056\n",
      "Epoch 104/200... Discriminator Loss: 0.9488... Generator Loss: 1.6933\n",
      "Epoch 105/200... Discriminator Loss: 0.9926... Generator Loss: 2.0094\n",
      "Epoch 106/200... Discriminator Loss: 1.0344... Generator Loss: 1.6394\n",
      "Epoch 107/200... Discriminator Loss: 0.9245... Generator Loss: 2.1551\n",
      "Epoch 108/200... Discriminator Loss: 1.0417... Generator Loss: 1.8633\n",
      "Epoch 109/200... Discriminator Loss: 1.1039... Generator Loss: 1.4497\n",
      "Epoch 110/200... Discriminator Loss: 0.8750... Generator Loss: 1.9523\n",
      "Epoch 111/200... Discriminator Loss: 1.0407... Generator Loss: 1.6107\n",
      "Epoch 112/200... Discriminator Loss: 0.8524... Generator Loss: 2.0593\n",
      "Epoch 113/200... Discriminator Loss: 0.8567... Generator Loss: 1.9387\n",
      "Epoch 114/200... Discriminator Loss: 1.0007... Generator Loss: 1.6162\n",
      "Epoch 115/200... Discriminator Loss: 0.8906... Generator Loss: 1.8489\n",
      "Epoch 116/200... Discriminator Loss: 0.9217... Generator Loss: 1.9826\n",
      "Epoch 117/200... Discriminator Loss: 0.8425... Generator Loss: 1.8196\n",
      "Epoch 118/200... Discriminator Loss: 1.0191... Generator Loss: 1.5875\n",
      "Epoch 119/200... Discriminator Loss: 1.0793... Generator Loss: 1.6508\n"
     ]
    },
    {
     "name": "stdout",
     "output_type": "stream",
     "text": [
      "Epoch 120/200... Discriminator Loss: 0.9811... Generator Loss: 1.5459\n",
      "Epoch 121/200... Discriminator Loss: 1.0912... Generator Loss: 1.5370\n",
      "Epoch 122/200... Discriminator Loss: 0.8564... Generator Loss: 1.9515\n",
      "Epoch 123/200... Discriminator Loss: 0.9890... Generator Loss: 1.8337\n",
      "Epoch 124/200... Discriminator Loss: 0.8071... Generator Loss: 2.0575\n",
      "Epoch 125/200... Discriminator Loss: 0.8735... Generator Loss: 2.2155\n",
      "Epoch 126/200... Discriminator Loss: 1.0826... Generator Loss: 2.0691\n",
      "Epoch 127/200... Discriminator Loss: 1.0597... Generator Loss: 1.5428\n",
      "Epoch 128/200... Discriminator Loss: 0.9478... Generator Loss: 1.9982\n",
      "Epoch 129/200... Discriminator Loss: 1.1174... Generator Loss: 1.3016\n",
      "Epoch 130/200... Discriminator Loss: 1.0898... Generator Loss: 1.7128\n",
      "Epoch 131/200... Discriminator Loss: 0.9081... Generator Loss: 1.8265\n",
      "Epoch 132/200... Discriminator Loss: 0.9289... Generator Loss: 1.7975\n",
      "Epoch 133/200... Discriminator Loss: 0.9379... Generator Loss: 1.6170\n",
      "Epoch 134/200... Discriminator Loss: 0.8982... Generator Loss: 1.9228\n",
      "Epoch 135/200... Discriminator Loss: 1.0486... Generator Loss: 1.7755\n",
      "Epoch 136/200... Discriminator Loss: 0.9518... Generator Loss: 1.4290\n",
      "Epoch 137/200... Discriminator Loss: 0.9686... Generator Loss: 1.8675\n",
      "Epoch 138/200... Discriminator Loss: 1.2467... Generator Loss: 1.3954\n",
      "Epoch 139/200... Discriminator Loss: 0.9279... Generator Loss: 1.5040\n",
      "Epoch 140/200... Discriminator Loss: 1.0161... Generator Loss: 1.6447\n",
      "Epoch 141/200... Discriminator Loss: 0.9119... Generator Loss: 1.9931\n",
      "Epoch 142/200... Discriminator Loss: 1.0413... Generator Loss: 1.6463\n",
      "Epoch 143/200... Discriminator Loss: 0.9559... Generator Loss: 1.7511\n",
      "Epoch 144/200... Discriminator Loss: 0.8575... Generator Loss: 1.8056\n",
      "Epoch 145/200... Discriminator Loss: 0.8317... Generator Loss: 1.9445\n",
      "Epoch 146/200... Discriminator Loss: 1.0428... Generator Loss: 1.8651\n",
      "Epoch 147/200... Discriminator Loss: 1.0006... Generator Loss: 1.7570\n",
      "Epoch 148/200... Discriminator Loss: 1.0480... Generator Loss: 1.6780\n",
      "Epoch 149/200... Discriminator Loss: 1.0371... Generator Loss: 1.9246\n",
      "Epoch 150/200... Discriminator Loss: 0.8124... Generator Loss: 2.5392\n",
      "Epoch 151/200... Discriminator Loss: 0.9631... Generator Loss: 1.7994\n",
      "Epoch 152/200... Discriminator Loss: 1.0085... Generator Loss: 1.8521\n",
      "Epoch 153/200... Discriminator Loss: 0.9401... Generator Loss: 2.0890\n",
      "Epoch 154/200... Discriminator Loss: 0.9415... Generator Loss: 1.8312\n",
      "Epoch 155/200... Discriminator Loss: 1.0761... Generator Loss: 1.5150\n",
      "Epoch 156/200... Discriminator Loss: 0.9684... Generator Loss: 1.9168\n",
      "Epoch 157/200... Discriminator Loss: 0.8889... Generator Loss: 2.1775\n",
      "Epoch 158/200... Discriminator Loss: 1.0429... Generator Loss: 1.9797\n",
      "Epoch 159/200... Discriminator Loss: 0.9574... Generator Loss: 1.7586\n",
      "Epoch 160/200... Discriminator Loss: 0.9396... Generator Loss: 1.9724\n",
      "Epoch 161/200... Discriminator Loss: 1.0010... Generator Loss: 1.6299\n",
      "Epoch 162/200... Discriminator Loss: 1.0343... Generator Loss: 1.7630\n",
      "Epoch 163/200... Discriminator Loss: 1.0727... Generator Loss: 1.6793\n",
      "Epoch 164/200... Discriminator Loss: 0.9457... Generator Loss: 1.7699\n",
      "Epoch 165/200... Discriminator Loss: 0.9734... Generator Loss: 1.9656\n",
      "Epoch 166/200... Discriminator Loss: 1.0135... Generator Loss: 1.9821\n",
      "Epoch 167/200... Discriminator Loss: 0.9716... Generator Loss: 1.7223\n",
      "Epoch 168/200... Discriminator Loss: 1.1312... Generator Loss: 1.7124\n",
      "Epoch 169/200... Discriminator Loss: 1.0945... Generator Loss: 1.8118\n",
      "Epoch 170/200... Discriminator Loss: 0.9602... Generator Loss: 1.6822\n",
      "Epoch 171/200... Discriminator Loss: 0.9613... Generator Loss: 1.9177\n",
      "Epoch 172/200... Discriminator Loss: 0.8751... Generator Loss: 1.8722\n",
      "Epoch 173/200... Discriminator Loss: 0.9870... Generator Loss: 1.9615\n",
      "Epoch 174/200... Discriminator Loss: 0.9093... Generator Loss: 2.0133\n",
      "Epoch 175/200... Discriminator Loss: 0.9163... Generator Loss: 1.7972\n",
      "Epoch 176/200... Discriminator Loss: 0.9873... Generator Loss: 1.8689\n",
      "Epoch 177/200... Discriminator Loss: 1.0420... Generator Loss: 1.5703\n",
      "Epoch 178/200... Discriminator Loss: 1.1196... Generator Loss: 1.4668\n",
      "Epoch 179/200... Discriminator Loss: 1.0418... Generator Loss: 1.7916\n",
      "Epoch 180/200... Discriminator Loss: 0.8242... Generator Loss: 1.9177\n",
      "Epoch 181/200... Discriminator Loss: 1.0106... Generator Loss: 1.6490\n",
      "Epoch 182/200... Discriminator Loss: 1.3037... Generator Loss: 2.1976\n",
      "Epoch 183/200... Discriminator Loss: 1.0270... Generator Loss: 1.5372\n",
      "Epoch 184/200... Discriminator Loss: 0.9662... Generator Loss: 1.8649\n",
      "Epoch 185/200... Discriminator Loss: 1.2404... Generator Loss: 1.4524\n",
      "Epoch 186/200... Discriminator Loss: 0.8988... Generator Loss: 1.9442\n",
      "Epoch 187/200... Discriminator Loss: 1.0740... Generator Loss: 1.5885\n",
      "Epoch 188/200... Discriminator Loss: 1.2403... Generator Loss: 1.6202\n",
      "Epoch 189/200... Discriminator Loss: 0.9433... Generator Loss: 2.2675\n",
      "Epoch 190/200... Discriminator Loss: 1.1281... Generator Loss: 1.7372\n",
      "Epoch 191/200... Discriminator Loss: 1.0363... Generator Loss: 1.5058\n",
      "Epoch 192/200... Discriminator Loss: 1.0446... Generator Loss: 1.8122\n",
      "Epoch 193/200... Discriminator Loss: 0.9032... Generator Loss: 1.9685\n",
      "Epoch 194/200... Discriminator Loss: 0.9106... Generator Loss: 2.0350\n",
      "Epoch 195/200... Discriminator Loss: 0.9004... Generator Loss: 1.6280\n",
      "Epoch 196/200... Discriminator Loss: 0.8228... Generator Loss: 2.0682\n",
      "Epoch 197/200... Discriminator Loss: 0.9517... Generator Loss: 2.0718\n",
      "Epoch 198/200... Discriminator Loss: 0.9165... Generator Loss: 2.4401\n",
      "Epoch 199/200... Discriminator Loss: 0.8990... Generator Loss: 2.2857\n",
      "Epoch 200/200... Discriminator Loss: 0.9652... Generator Loss: 2.0539\n"
     ]
    }
   ],
   "source": [
    "batch_size = 100\n",
    "epochs = 200\n",
    "samples = []\n",
    "losses = []\n",
    "saver = tf.train.Saver(var_list = g_vars)\n",
    "with tf.Session() as sess:\n",
    "    sess.run(tf.global_variables_initializer())\n",
    "    for e in range(epochs):\n",
    "        for ii in range(mnist.train.num_examples//batch_size):\n",
    "            batch = mnist.train.next_batch(batch_size)\n",
    "            \n",
    "            # Get images, reshape and rescale to pass to D\n",
    "            batch_images = batch[0].reshape((batch_size, 784))\n",
    "            batch_images = batch_images*2 - 1\n",
    "            \n",
    "            # Sample random noise for G\n",
    "            batch_z = np.random.uniform(-1, 1, size=(batch_size, z_size))\n",
    "            \n",
    "            # Run optimizers\n",
    "            _ = sess.run(d_train_opt, feed_dict={input_real: batch_images, input_z: batch_z})\n",
    "            _ = sess.run(g_train_opt, feed_dict={input_z: batch_z})\n",
    "        \n",
    "        # At the end of each epoch, get the losses and print them out\n",
    "        train_loss_d = sess.run(d_loss, {input_z: batch_z, input_real: batch_images})\n",
    "        train_loss_g = g_loss.eval({input_z: batch_z})\n",
    "            \n",
    "        print(\"Epoch {}/{}...\".format(e+1, epochs),\n",
    "              \"Discriminator Loss: {:.4f}...\".format(train_loss_d),\n",
    "              \"Generator Loss: {:.4f}\".format(train_loss_g))    \n",
    "        # Save losses to view after training\n",
    "        losses.append((train_loss_d, train_loss_g))\n",
    "        \n",
    "        # Sample from generator as we're training for viewing afterwards\n",
    "        sample_z = np.random.uniform(-1, 1, size=(16, z_size))\n",
    "        gen_samples = sess.run(\n",
    "                       generator(input_z, input_size, n_units=g_hidden_size, reuse=True, alpha=alpha),\n",
    "                       feed_dict={input_z: sample_z})\n",
    "        samples.append(gen_samples)\n",
    "        saver.save(sess, './checkpoints/generator.ckpt')\n",
    "\n",
    "# Save training generator samples\n",
    "with open('train_samples.pkl', 'wb') as f:\n",
    "    pkl.dump(samples, f)"
   ]
  },
  {
   "cell_type": "markdown",
   "metadata": {},
   "source": [
    "## Training loss\n",
    "\n",
    "Here we'll check out the training losses for the generator and discriminator."
   ]
  },
  {
   "cell_type": "code",
   "execution_count": 26,
   "metadata": {},
   "outputs": [],
   "source": [
    "%matplotlib inline\n",
    "\n",
    "import matplotlib.pyplot as plt"
   ]
  },
  {
   "cell_type": "code",
   "execution_count": 27,
   "metadata": {},
   "outputs": [
    {
     "data": {
      "text/plain": [
       "<matplotlib.legend.Legend at 0x14972a61160>"
      ]
     },
     "execution_count": 27,
     "metadata": {},
     "output_type": "execute_result"
    },
    {
     "data": {
      "image/png": "[encoded data removed]",
      "text/plain": [
       "<matplotlib.figure.Figure at 0x14955a1b978>"
      ]
     },
     "metadata": {},
     "output_type": "display_data"
    }
   ],
   "source": [
    "fig, ax = plt.subplots()\n",
    "losses = np.array(losses)\n",
    "plt.plot(losses.T[0], label='Discriminator')\n",
    "plt.plot(losses.T[1], label='Generator')\n",
    "plt.title(\"Training Losses\")\n",
    "plt.legend()"
   ]
  },
  {
   "cell_type": "markdown",
   "metadata": {},
   "source": [
    "## Generator samples from training\n",
    "\n",
    "Here we can view samples of images from the generator. First we'll look at images taken while training."
   ]
  },
  {
   "cell_type": "code",
   "execution_count": 46,
   "metadata": {},
   "outputs": [],
   "source": [
    "def view_samples(epoch, samples):\n",
    "    fig, axes = plt.subplots(figsize=(7,7), nrows=4, ncols=4, sharey=True, sharex=True)\n",
    "    print(len(samples[epoch]))\n",
    "    for ax, img in zip(axes.flatten(), samples[epoch][0]):\n",
    "        ax.xaxis.set_visible(False)\n",
    "        ax.yaxis.set_visible(False)\n",
    "        im = ax.imshow(img.reshape((28,28)), cmap='Greys_r')\n",
    "    \n",
    "    return fig, axes"
   ]
  },
  {
   "cell_type": "code",
   "execution_count": 47,
   "metadata": {},
   "outputs": [],
   "source": [
    "# Load samples from generator taken while training\n",
    "with open('train_samples.pkl', 'rb') as f:\n",
    "    samples = pkl.load(f)"
   ]
  },
  {
   "cell_type": "markdown",
   "metadata": {},
   "source": [
    "These are samples from the final training epoch. You can see the generator is able to reproduce numbers like 5, 7, 3, 0, 9. Since this is just a sample, it isn't representative of the full range of images this generator can make."
   ]
  },
  {
   "cell_type": "code",
   "execution_count": 48,
   "metadata": {},
   "outputs": [
    {
     "name": "stdout",
     "output_type": "stream",
     "text": [
      "2\n"
     ]
    },
    {
     "data": {
      "image/png": "[encoded data removed]",
      "text/plain": [
       "<matplotlib.figure.Figure at 0x1496f25c550>"
      ]
     },
     "metadata": {},
     "output_type": "display_data"
    }
   ],
   "source": [
    "_ = view_samples(-1, samples)"
   ]
  },
  {
   "cell_type": "markdown",
   "metadata": {},
   "source": [
    "Below I'm showing the generated images as the network was training, every 10 epochs. With bonus optical illusion!"
   ]
  },
  {
   "cell_type": "code",
   "execution_count": 52,
   "metadata": {},
   "outputs": [
    {
     "ename": "ValueError",
     "evalue": "slice step cannot be zero",
     "output_type": "error",
     "traceback": [
      "\u001b[1;31m---------------------------------------------------------------------------\u001b[0m",
      "\u001b[1;31mValueError\u001b[0m                                Traceback (most recent call last)",
      "\u001b[1;32m<ipython-input-52-07933acbf246>\u001b[0m in \u001b[0;36m<module>\u001b[1;34m()\u001b[0m\n\u001b[0;32m      3\u001b[0m \u001b[1;33m\u001b[0m\u001b[0m\n\u001b[0;32m      4\u001b[0m \u001b[1;32mfor\u001b[0m \u001b[0msample\u001b[0m\u001b[1;33m,\u001b[0m \u001b[0max_row\u001b[0m \u001b[1;32min\u001b[0m \u001b[0mzip\u001b[0m\u001b[1;33m(\u001b[0m\u001b[0msamples\u001b[0m\u001b[1;33m[\u001b[0m\u001b[1;33m:\u001b[0m\u001b[1;33m:\u001b[0m\u001b[0mint\u001b[0m\u001b[1;33m(\u001b[0m\u001b[0mlen\u001b[0m\u001b[1;33m(\u001b[0m\u001b[0msamples\u001b[0m\u001b[1;33m)\u001b[0m\u001b[1;33m/\u001b[0m\u001b[0mrows\u001b[0m\u001b[1;33m)\u001b[0m\u001b[1;33m]\u001b[0m\u001b[1;33m,\u001b[0m \u001b[0maxes\u001b[0m\u001b[1;33m)\u001b[0m\u001b[1;33m:\u001b[0m\u001b[1;33m\u001b[0m\u001b[0m\n\u001b[1;32m----> 5\u001b[1;33m     \u001b[1;32mfor\u001b[0m \u001b[0mimg\u001b[0m\u001b[1;33m,\u001b[0m \u001b[0max\u001b[0m \u001b[1;32min\u001b[0m \u001b[0mzip\u001b[0m\u001b[1;33m(\u001b[0m\u001b[0msample\u001b[0m\u001b[1;33m[\u001b[0m\u001b[1;33m:\u001b[0m\u001b[1;33m:\u001b[0m\u001b[0mint\u001b[0m\u001b[1;33m(\u001b[0m\u001b[0mlen\u001b[0m\u001b[1;33m(\u001b[0m\u001b[0msample\u001b[0m\u001b[1;33m)\u001b[0m\u001b[1;33m/\u001b[0m\u001b[0mcols\u001b[0m\u001b[1;33m)\u001b[0m\u001b[1;33m]\u001b[0m\u001b[1;33m,\u001b[0m \u001b[0max_row\u001b[0m\u001b[1;33m)\u001b[0m\u001b[1;33m:\u001b[0m\u001b[1;33m\u001b[0m\u001b[0m\n\u001b[0m\u001b[0;32m      6\u001b[0m         \u001b[0max\u001b[0m\u001b[1;33m.\u001b[0m\u001b[0mimshow\u001b[0m\u001b[1;33m(\u001b[0m\u001b[0mimg\u001b[0m\u001b[1;33m.\u001b[0m\u001b[0mreshape\u001b[0m\u001b[1;33m(\u001b[0m\u001b[1;33m(\u001b[0m\u001b[1;36m28\u001b[0m\u001b[1;33m,\u001b[0m\u001b[1;36m28\u001b[0m\u001b[1;33m)\u001b[0m\u001b[1;33m)\u001b[0m\u001b[1;33m,\u001b[0m \u001b[0mcmap\u001b[0m\u001b[1;33m=\u001b[0m\u001b[1;34m'Greys_r'\u001b[0m\u001b[1;33m)\u001b[0m\u001b[1;33m\u001b[0m\u001b[0m\n\u001b[0;32m      7\u001b[0m         \u001b[0max\u001b[0m\u001b[1;33m.\u001b[0m\u001b[0mxaxis\u001b[0m\u001b[1;33m.\u001b[0m\u001b[0mset_visible\u001b[0m\u001b[1;33m(\u001b[0m\u001b[1;32mFalse\u001b[0m\u001b[1;33m)\u001b[0m\u001b[1;33m\u001b[0m\u001b[0m\n",
      "\u001b[1;31mValueError\u001b[0m: slice step cannot be zero"
     ]
    },
    {
     "data": {
      "image/png": "[encoded data removed]",
      "text/plain": [
       "<matplotlib.figure.Figure at 0x14af701c4a8>"
      ]
     },
     "metadata": {},
     "output_type": "display_data"
    }
   ],
   "source": [
    "rows, cols = 10, 6\n",
    "fig, axes = plt.subplots(figsize=(7,12), nrows=rows, ncols=cols, sharex=True, sharey=True)\n",
    "\n",
    "for sample, ax_row in zip(samples[::int(len(samples)/rows)], axes):\n",
    "    for img, ax in zip(sample[::int(len(sample)/cols)], ax_row):\n",
    "        ax.imshow(img.reshape((28,28)), cmap='Greys_r')\n",
    "        ax.xaxis.set_visible(False)\n",
    "        ax.yaxis.set_visible(False)"
   ]
  },
  {
   "cell_type": "markdown",
   "metadata": {},
   "source": [
    "It starts out as all noise. Then it learns to make only the center white and the rest black. You can start to see some number like structures appear out of the noise. Looks like 1, 9, and 8 show up first. Then, it learns 5 and 3."
   ]
  },
  {
   "cell_type": "markdown",
   "metadata": {},
   "source": [
    "## Sampling from the generator\n",
    "\n",
    "We can also get completely new images from the generator by using the checkpoint we saved after training. We just need to pass in a new latent vector $z$ and we'll get new samples!"
   ]
  },
  {
   "cell_type": "code",
   "execution_count": 53,
   "metadata": {},
   "outputs": [
    {
     "name": "stdout",
     "output_type": "stream",
     "text": [
      "INFO:tensorflow:Restoring parameters from checkpoints\\generator.ckpt\n",
      "2\n"
     ]
    },
    {
     "data": {
      "text/plain": [
       "(<matplotlib.figure.Figure at 0x14972d3e8d0>,\n",
       " array([[<matplotlib.axes._subplots.AxesSubplot object at 0x000001497F96EEF0>,\n",
       "         <matplotlib.axes._subplots.AxesSubplot object at 0x0000014972DC47F0>,\n",
       "         <matplotlib.axes._subplots.AxesSubplot object at 0x0000014972F0E208>,\n",
       "         <matplotlib.axes._subplots.AxesSubplot object at 0x0000014972F8B978>],\n",
       "        [<matplotlib.axes._subplots.AxesSubplot object at 0x0000014972F18E10>,\n",
       "         <matplotlib.axes._subplots.AxesSubplot object at 0x0000014972F62550>,\n",
       "         <matplotlib.axes._subplots.AxesSubplot object at 0x000001497FAAF2B0>,\n",
       "         <matplotlib.axes._subplots.AxesSubplot object at 0x0000014972C72D68>],\n",
       "        [<matplotlib.axes._subplots.AxesSubplot object at 0x000001497E80E7F0>,\n",
       "         <matplotlib.axes._subplots.AxesSubplot object at 0x000001497E819438>,\n",
       "         <matplotlib.axes._subplots.AxesSubplot object at 0x0000014972FEE208>,\n",
       "         <matplotlib.axes._subplots.AxesSubplot object at 0x00000149558551D0>],\n",
       "        [<matplotlib.axes._subplots.AxesSubplot object at 0x000001497FA14E80>,\n",
       "         <matplotlib.axes._subplots.AxesSubplot object at 0x0000014972FE4390>,\n",
       "         <matplotlib.axes._subplots.AxesSubplot object at 0x000001497302D0F0>,\n",
       "         <matplotlib.axes._subplots.AxesSubplot object at 0x000001495584B240>]],\n",
       "       dtype=object))"
      ]
     },
     "execution_count": 53,
     "metadata": {},
     "output_type": "execute_result"
    },
    {
     "data": {
      "image/png": "[encoded data removed]",
      "text/plain": [
       "<matplotlib.figure.Figure at 0x14972d3e8d0>"
      ]
     },
     "metadata": {},
     "output_type": "display_data"
    }
   ],
   "source": [
    "saver = tf.train.Saver(var_list=g_vars)\n",
    "with tf.Session() as sess:\n",
    "    saver.restore(sess, tf.train.latest_checkpoint('checkpoints'))\n",
    "    sample_z = np.random.uniform(-1, 1, size=(16, z_size))\n",
    "    gen_samples = sess.run(\n",
    "                   generator(input_z, input_size, n_units=g_hidden_size, reuse=True, alpha=alpha),\n",
    "                   feed_dict={input_z: sample_z})\n",
    "view_samples(0, [gen_samples])"
   ]
  },
  {
   "cell_type": "code",
   "execution_count": null,
   "metadata": {},
   "outputs": [],
   "source": []
  }
 ],
 "metadata": {
  "kernelspec": {
   "display_name": "Python 3",
   "language": "python",
   "name": "python3"
  },
  "language_info": {
   "codemirror_mode": {
    "name": "ipython",
    "version": 3
   },
   "file_extension": ".py",
   "mimetype": "text/x-python",
   "name": "python",
   "nbconvert_exporter": "python",
   "pygments_lexer": "ipython3",
   "version": "3.5.4"
  }
 },
 "nbformat": 4,
 "nbformat_minor": 2
}
