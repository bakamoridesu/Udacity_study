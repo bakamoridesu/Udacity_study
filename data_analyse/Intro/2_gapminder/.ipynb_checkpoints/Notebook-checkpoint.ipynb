{
 "cells": [
  {
   "cell_type": "markdown",
   "metadata": {},
   "source": [
    "# Gapminder data\n",
    "## The data in this lesson was obtained from the site gapminder.org. The variables included are:\n",
    "\n",
    "- Aged 15+ Employment Rate (%)\n",
    "- Life Expectancy (years)\n",
    "- GDP/capita (US$, inflation adjusted)\n",
    "- Primary school completion (% of boys)\n",
    "- Primary school completion (% of girls)"
   ]
  },
  {
   "cell_type": "markdown",
   "metadata": {},
   "source": [
    "### 1. Importing libraries"
   ]
  },
  {
   "cell_type": "code",
   "execution_count": 2,
   "metadata": {},
   "outputs": [
    {
     "name": "stdout",
     "output_type": "stream",
     "text": [
      "All imports completed!\n"
     ]
    }
   ],
   "source": [
    "# importing numpy and pandas\n",
    "\n",
    "import numpy as np\n",
    "import pandas as pd\n",
    "print('All imports completed!')"
   ]
  },
  {
   "cell_type": "markdown",
   "metadata": {},
   "source": [
    "### 2. Reading files"
   ]
  },
  {
   "cell_type": "code",
   "execution_count": 3,
   "metadata": {},
   "outputs": [
    {
     "name": "stdout",
     "output_type": "stream",
     "text": [
      "All data is loaded!\n"
     ]
    }
   ],
   "source": [
    "# reading files using pandas\n",
    "\n",
    "employment_above_15 = pd.read_csv('employment_above_15.csv')\n",
    "life_expectancy = pd.read_csv('life_expectancy.csv')\n",
    "gdp_per_capita = pd.read_csv('gdp_per_capita.csv')\n",
    "female_completion_rate = pd.read_csv('female_completion_rate.csv')\n",
    "male_completion_rate = pd.read_csv('male_completion_rate.csv')\n",
    "print('All data is loaded!')"
   ]
  },
  {
   "cell_type": "markdown",
   "metadata": {},
   "source": [
    "### 3. Check out some values!"
   ]
  },
  {
   "cell_type": "code",
   "execution_count": 27,
   "metadata": {},
   "outputs": [
    {
     "name": "stdout",
     "output_type": "stream",
     "text": [
      "0                Afghanistan\n",
      "1                    Albania\n",
      "2                    Algeria\n",
      "3                     Angola\n",
      "4                  Argentina\n",
      "5                    Armenia\n",
      "6                  Australia\n",
      "7                    Austria\n",
      "8                 Azerbaijan\n",
      "9                    Bahamas\n",
      "10                   Bahrain\n",
      "11                Bangladesh\n",
      "12                  Barbados\n",
      "13                   Belarus\n",
      "14                   Belgium\n",
      "15                    Belize\n",
      "16                     Benin\n",
      "17                    Bhutan\n",
      "18                   Bolivia\n",
      "19    Bosnia and Herzegovina\n",
      "Name: Country, dtype: object\n"
     ]
    }
   ],
   "source": [
    "# print first 20 countries in employments file:\n",
    "\n",
    "print(employment_above_15['Country'][:20])"
   ]
  },
  {
   "cell_type": "code",
   "execution_count": 30,
   "metadata": {},
   "outputs": [
    {
     "name": "stdout",
     "output_type": "stream",
     "text": [
      "0     55.700001\n",
      "1     51.400002\n",
      "2     50.500000\n",
      "3     75.699997\n",
      "4     58.400002\n",
      "5     40.099998\n",
      "6     61.500000\n",
      "7     57.099998\n",
      "8     60.900002\n",
      "9     66.599998\n",
      "10    60.400002\n",
      "11    68.099998\n",
      "12    66.900002\n",
      "13    53.400002\n",
      "14    48.599998\n",
      "15    56.799999\n",
      "16    71.599998\n",
      "17    58.400002\n",
      "18    70.400002\n",
      "19    41.200001\n",
      "Name: 2007, dtype: float64\n"
     ]
    }
   ],
   "source": [
    "# print first 20 employment values for 2007 year in employments file:\n",
    "\n",
    "print(employment_above_15['2007'][:20])"
   ]
  },
  {
   "cell_type": "markdown",
   "metadata": {},
   "source": [
    "### 4. Operating with datasets.\n",
    "\n",
    "#### 4.1. Employment data."
   ]
  },
  {
   "cell_type": "code",
   "execution_count": 28,
   "metadata": {},
   "outputs": [],
   "source": [
    "# function that prints out the country \n",
    "# with maximum employment in given bunch of data\n",
    "# for given year\n",
    "def print_max_country_employment(data, size, year):\n",
    "    i = data[year][:size].values.argmax()\n",
    "    country = data['Country'][:size][i]\n",
    "    value = data[year][:size][i]\n",
    "    print('Country with maximum employment({}) is {}'.format(value, country))"
   ]
  },
  {
   "cell_type": "code",
   "execution_count": 29,
   "metadata": {},
   "outputs": [
    {
     "name": "stdout",
     "output_type": "stream",
     "text": [
      "Country with maximum employment(75.6999969482) is Angola\n"
     ]
    }
   ],
   "source": [
    "# for our bunch print maximum value of employment and the country.\n",
    "print_max_country_employment(employment_above_15, 20, '2007')"
   ]
  },
  {
   "cell_type": "markdown",
   "metadata": {},
   "source": [
    "#### 4.2. Completion data."
   ]
  },
  {
   "cell_type": "code",
   "execution_count": 35,
   "metadata": {},
   "outputs": [],
   "source": [
    "#  this function returns a NumPy array \n",
    "# containing the overall school completion rate for each country\n",
    "# The arguments are NumPy arrays giving the female and male completion \n",
    "# of each country in the same order.\n",
    "def overall_completion_rate(female_completion, male_completion):\n",
    "    f_c = np.array(female_completion)\n",
    "    m_c = np.array(male_completion)\n",
    "    result = (f_c + m_c)/2\n",
    "    return result"
   ]
  },
  {
   "cell_type": "code",
   "execution_count": 37,
   "metadata": {},
   "outputs": [
    {
     "name": "stdout",
     "output_type": "stream",
     "text": [
      "[       nan        nan        nan        nan  96.416025        nan\n",
      "        nan        nan        nan        nan 102.644275 101.41129\n",
      "  93.316285        nan 103.455575  98.148215 102.35113         nan\n",
      "        nan  91.77855 ]\n"
     ]
    }
   ],
   "source": [
    "print(overall_completion_rate(female_completion_rate['2007'][:20], male_completion_rate['2007'][:20]))"
   ]
  }
 ],
 "metadata": {
  "kernelspec": {
   "display_name": "Python 3",
   "language": "python",
   "name": "python3"
  },
  "language_info": {
   "codemirror_mode": {
    "name": "ipython",
    "version": 3
   },
   "file_extension": ".py",
   "mimetype": "text/x-python",
   "name": "python",
   "nbconvert_exporter": "python",
   "pygments_lexer": "ipython3",
   "version": "3.5.2"
  },
  "widgets": {
   "state": {},
   "version": "1.1.2"
  }
 },
 "nbformat": 4,
 "nbformat_minor": 2
}
