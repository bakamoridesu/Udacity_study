{
 "cells": [
  {
   "cell_type": "markdown",
   "metadata": {},
   "source": [
    "# Gapminder data\n",
    "## The data in this lesson was obtained from the site gapminder.org. The variables included are:\n",
    "\n",
    "- Aged 15+ Employment Rate (%)\n",
    "- Life Expectancy (years)\n",
    "- GDP/capita (US$, inflation adjusted)\n",
    "- Primary school completion (% of boys)\n",
    "- Primary school completion (% of girls)"
   ]
  },
  {
   "cell_type": "markdown",
   "metadata": {},
   "source": [
    "### 1. Importing libraries"
   ]
  },
  {
   "cell_type": "code",
   "execution_count": 1,
   "metadata": {},
   "outputs": [
    {
     "name": "stdout",
     "output_type": "stream",
     "text": [
      "All imports completed!\n"
     ]
    }
   ],
   "source": [
    "# importing numpy and pandas\n",
    "\n",
    "import numpy as np\n",
    "import pandas as pd\n",
    "print('All imports completed!')"
   ]
  },
  {
   "cell_type": "markdown",
   "metadata": {},
   "source": [
    "### 2. Reading files"
   ]
  },
  {
   "cell_type": "code",
   "execution_count": 2,
   "metadata": {},
   "outputs": [
    {
     "name": "stdout",
     "output_type": "stream",
     "text": [
      "All data is loaded!\n"
     ]
    }
   ],
   "source": [
    "# reading files using pandas\n",
    "\n",
    "employment_above_15 = pd.read_csv('employment_above_15.csv')\n",
    "life_expectancy = pd.read_csv('life_expectancy.csv')\n",
    "gdp_per_capita = pd.read_csv('gdp_per_capita.csv')\n",
    "female_completion_rate = pd.read_csv('female_completion_rate.csv')\n",
    "male_completion_rate = pd.read_csv('male_completion_rate.csv')\n",
    "print('All data is loaded!')"
   ]
  },
  {
   "cell_type": "markdown",
   "metadata": {},
   "source": [
    "### 3. Check out some values!"
   ]
  },
  {
   "cell_type": "code",
   "execution_count": 3,
   "metadata": {},
   "outputs": [
    {
     "name": "stdout",
     "output_type": "stream",
     "text": [
      "0                Afghanistan\n",
      "1                    Albania\n",
      "2                    Algeria\n",
      "3                     Angola\n",
      "4                  Argentina\n",
      "5                    Armenia\n",
      "6                  Australia\n",
      "7                    Austria\n",
      "8                 Azerbaijan\n",
      "9                    Bahamas\n",
      "10                   Bahrain\n",
      "11                Bangladesh\n",
      "12                  Barbados\n",
      "13                   Belarus\n",
      "14                   Belgium\n",
      "15                    Belize\n",
      "16                     Benin\n",
      "17                    Bhutan\n",
      "18                   Bolivia\n",
      "19    Bosnia and Herzegovina\n",
      "Name: Country, dtype: object\n"
     ]
    }
   ],
   "source": [
    "# print first 20 countries in employments file:\n",
    "\n",
    "print(employment_above_15['Country'][:20])"
   ]
  },
  {
   "cell_type": "code",
   "execution_count": 4,
   "metadata": {},
   "outputs": [
    {
     "name": "stdout",
     "output_type": "stream",
     "text": [
      "0     55.700001\n",
      "1     51.400002\n",
      "2     50.500000\n",
      "3     75.699997\n",
      "4     58.400002\n",
      "5     40.099998\n",
      "6     61.500000\n",
      "7     57.099998\n",
      "8     60.900002\n",
      "9     66.599998\n",
      "10    60.400002\n",
      "11    68.099998\n",
      "12    66.900002\n",
      "13    53.400002\n",
      "14    48.599998\n",
      "15    56.799999\n",
      "16    71.599998\n",
      "17    58.400002\n",
      "18    70.400002\n",
      "19    41.200001\n",
      "Name: 2007, dtype: float64\n"
     ]
    }
   ],
   "source": [
    "# print first 20 employment values for 2007 year in employments file:\n",
    "\n",
    "print(employment_above_15['2007'][:20])"
   ]
  },
  {
   "cell_type": "markdown",
   "metadata": {},
   "source": [
    "### 4. Operating with datasets.\n",
    "\n",
    "#### 4.1. Employment data."
   ]
  },
  {
   "cell_type": "code",
   "execution_count": 5,
   "metadata": {},
   "outputs": [],
   "source": [
    "# function that prints out the country \n",
    "# with maximum employment in given bunch of data\n",
    "# for given year\n",
    "def print_max_country_employment(data, size, year):\n",
    "    i = data[year][:size].values.argmax()\n",
    "    country = data['Country'][:size][i]\n",
    "    value = data[year][:size][i]\n",
    "    print('Country with maximum employment({}) is {}'.format(value, country))"
   ]
  },
  {
   "cell_type": "code",
   "execution_count": 6,
   "metadata": {},
   "outputs": [
    {
     "name": "stdout",
     "output_type": "stream",
     "text": [
      "Country with maximum employment(75.6999969482) is Angola\n"
     ]
    }
   ],
   "source": [
    "# for our bunch print maximum value of employment and the country.\n",
    "print_max_country_employment(employment_above_15, 20, '2007')"
   ]
  },
  {
   "cell_type": "markdown",
   "metadata": {},
   "source": [
    "#### 4.2. Completion data."
   ]
  },
  {
   "cell_type": "code",
   "execution_count": 7,
   "metadata": {},
   "outputs": [],
   "source": [
    "#  this function returns a NumPy array \n",
    "# containing the overall school completion rate for each country\n",
    "# The arguments are NumPy arrays giving the female and male completion \n",
    "# of each country in the same order.\n",
    "def overall_completion_rate(female_completion, male_completion):\n",
    "    f_c = np.array(female_completion)\n",
    "    m_c = np.array(male_completion)\n",
    "    result = (f_c + m_c)/2\n",
    "    return result"
   ]
  },
  {
   "cell_type": "code",
   "execution_count": 8,
   "metadata": {},
   "outputs": [
    {
     "name": "stdout",
     "output_type": "stream",
     "text": [
      "[       nan        nan        nan        nan  96.416025        nan\n",
      "        nan        nan        nan        nan 102.644275 101.41129\n",
      "  93.316285        nan 103.455575  98.148215 102.35113         nan\n",
      "        nan  91.77855 ]\n"
     ]
    }
   ],
   "source": [
    "print(overall_completion_rate(female_completion_rate['2007'][:20], male_completion_rate['2007'][:20]))"
   ]
  },
  {
   "cell_type": "markdown",
   "metadata": {},
   "source": [
    "### 5. Standardizing data."
   ]
  },
  {
   "cell_type": "code",
   "execution_count": 10,
   "metadata": {},
   "outputs": [
    {
     "name": "stdout",
     "output_type": "stream",
     "text": [
      "[-0.31965231 -0.780123   -0.87650077  1.82207181 -0.03051941 -1.99019768\n",
      "  0.30144772 -0.16973184  0.23719615  0.84758731  0.18365304  1.00821665\n",
      "  0.87971351 -0.56595055 -1.07996476 -0.20185762  1.38301845 -0.03051941\n",
      "  1.2545153  -1.87240259]\n"
     ]
    }
   ],
   "source": [
    "# Employment data in 2007 for those 20 countries\n",
    "employment_for_standardizing = np.array([\n",
    "    55.70000076,  51.40000153,  50.5       ,  75.69999695,\n",
    "    58.40000153,  40.09999847,  61.5       ,  57.09999847,\n",
    "    60.90000153,  66.59999847,  60.40000153,  68.09999847,\n",
    "    66.90000153,  53.40000153,  48.59999847,  56.79999924,\n",
    "    71.59999847,  58.40000153,  70.40000153,  41.20000076\n",
    "])\n",
    "\n",
    "# First 20 countries with employment data\n",
    "countries = np.array([\n",
    "    'Afghanistan', 'Albania', 'Algeria', 'Angola', 'Argentina',\n",
    "    'Armenia', 'Australia', 'Austria', 'Azerbaijan', 'Bahamas',\n",
    "    'Bahrain', 'Bangladesh', 'Barbados', 'Belarus', 'Belgium',\n",
    "    'Belize', 'Benin', 'Bhutan', 'Bolivia',\n",
    "    'Bosnia and Herzegovina'\n",
    "])\n",
    "country_name = 'United States'\n",
    "\n",
    "def standardize_data(values):\n",
    "    '''\n",
    "    This function returns a standardized version of the given values\n",
    "    in a NumPy array. Each value is translated into the\n",
    "    number of standard deviations that value is away from the mean of the data.\n",
    "    (A positive number indicates a value higher than the mean, and a negative\n",
    "    number indicates a value lower than the mean.)\n",
    "    '''\n",
    "    mean = values.mean()\n",
    "    std = values.std()\n",
    "    return (values - mean)/std\n",
    "print(standardize_data(employment_for_standardizing))"
   ]
  },
  {
   "cell_type": "code",
   "execution_count": 11,
   "metadata": {},
   "outputs": [
    {
     "name": "stdout",
     "output_type": "stream",
     "text": [
      "['Angola' 'Australia' 'Azerbaijan' 'Bahamas' 'Bahrain' 'Bangladesh'\n",
      " 'Barbados' 'Benin' 'Bolivia']\n"
     ]
    }
   ],
   "source": [
    "# Now print all countries with positive indicates:\n",
    "print(countries[standardize_data(employment_for_standardizing) > 0])"
   ]
  },
  {
   "cell_type": "markdown",
   "metadata": {},
   "source": [
    "### Pandas series"
   ]
  },
  {
   "cell_type": "code",
   "execution_count": 12,
   "metadata": {},
   "outputs": [
    {
     "data": {
      "text/html": [
       "<div>\n",
       "<style scoped>\n",
       "    .dataframe tbody tr th:only-of-type {\n",
       "        vertical-align: middle;\n",
       "    }\n",
       "\n",
       "    .dataframe tbody tr th {\n",
       "        vertical-align: top;\n",
       "    }\n",
       "\n",
       "    .dataframe thead th {\n",
       "        text-align: right;\n",
       "    }\n",
       "</style>\n",
       "<table border=\"1\" class=\"dataframe\">\n",
       "  <thead>\n",
       "    <tr style=\"text-align: right;\">\n",
       "      <th></th>\n",
       "      <th>1991</th>\n",
       "      <th>1992</th>\n",
       "      <th>1993</th>\n",
       "      <th>1994</th>\n",
       "      <th>1995</th>\n",
       "      <th>1996</th>\n",
       "      <th>1997</th>\n",
       "      <th>1998</th>\n",
       "      <th>1999</th>\n",
       "      <th>2000</th>\n",
       "      <th>2001</th>\n",
       "      <th>2002</th>\n",
       "      <th>2003</th>\n",
       "      <th>2004</th>\n",
       "      <th>2005</th>\n",
       "      <th>2006</th>\n",
       "      <th>2007</th>\n",
       "    </tr>\n",
       "  </thead>\n",
       "  <tbody>\n",
       "    <tr>\n",
       "      <th>count</th>\n",
       "      <td>178.000000</td>\n",
       "      <td>178.000000</td>\n",
       "      <td>178.000000</td>\n",
       "      <td>178.000000</td>\n",
       "      <td>178.000000</td>\n",
       "      <td>178.000000</td>\n",
       "      <td>178.000000</td>\n",
       "      <td>178.000000</td>\n",
       "      <td>178.000000</td>\n",
       "      <td>178.000000</td>\n",
       "      <td>178.000000</td>\n",
       "      <td>178.000000</td>\n",
       "      <td>178.000000</td>\n",
       "      <td>178.000000</td>\n",
       "      <td>178.000000</td>\n",
       "      <td>178.000000</td>\n",
       "      <td>178.000000</td>\n",
       "    </tr>\n",
       "    <tr>\n",
       "      <th>mean</th>\n",
       "      <td>57.732022</td>\n",
       "      <td>57.622472</td>\n",
       "      <td>57.396067</td>\n",
       "      <td>57.536517</td>\n",
       "      <td>57.607865</td>\n",
       "      <td>57.531461</td>\n",
       "      <td>57.634832</td>\n",
       "      <td>57.699438</td>\n",
       "      <td>57.703371</td>\n",
       "      <td>57.804495</td>\n",
       "      <td>57.822472</td>\n",
       "      <td>57.747191</td>\n",
       "      <td>57.747753</td>\n",
       "      <td>57.924157</td>\n",
       "      <td>58.108427</td>\n",
       "      <td>58.442135</td>\n",
       "      <td>58.635955</td>\n",
       "    </tr>\n",
       "    <tr>\n",
       "      <th>std</th>\n",
       "      <td>11.083858</td>\n",
       "      <td>11.082125</td>\n",
       "      <td>11.154044</td>\n",
       "      <td>11.077853</td>\n",
       "      <td>10.933246</td>\n",
       "      <td>11.108913</td>\n",
       "      <td>11.090660</td>\n",
       "      <td>10.996967</td>\n",
       "      <td>10.974119</td>\n",
       "      <td>10.893329</td>\n",
       "      <td>10.958378</td>\n",
       "      <td>10.901107</td>\n",
       "      <td>10.901185</td>\n",
       "      <td>10.827999</td>\n",
       "      <td>10.807143</td>\n",
       "      <td>10.618519</td>\n",
       "      <td>10.519454</td>\n",
       "    </tr>\n",
       "    <tr>\n",
       "      <th>min</th>\n",
       "      <td>29.299999</td>\n",
       "      <td>29.799999</td>\n",
       "      <td>30.400000</td>\n",
       "      <td>26.799999</td>\n",
       "      <td>32.599998</td>\n",
       "      <td>29.500000</td>\n",
       "      <td>31.000000</td>\n",
       "      <td>33.400002</td>\n",
       "      <td>34.400002</td>\n",
       "      <td>33.599998</td>\n",
       "      <td>29.400000</td>\n",
       "      <td>26.600000</td>\n",
       "      <td>29.400000</td>\n",
       "      <td>29.700001</td>\n",
       "      <td>31.400000</td>\n",
       "      <td>31.600000</td>\n",
       "      <td>32.000000</td>\n",
       "    </tr>\n",
       "    <tr>\n",
       "      <th>25%</th>\n",
       "      <td>51.025000</td>\n",
       "      <td>50.800000</td>\n",
       "      <td>50.349999</td>\n",
       "      <td>50.649999</td>\n",
       "      <td>50.149999</td>\n",
       "      <td>50.550000</td>\n",
       "      <td>50.400002</td>\n",
       "      <td>50.450001</td>\n",
       "      <td>50.500000</td>\n",
       "      <td>50.224998</td>\n",
       "      <td>50.825000</td>\n",
       "      <td>50.925001</td>\n",
       "      <td>51.124999</td>\n",
       "      <td>50.750001</td>\n",
       "      <td>50.925001</td>\n",
       "      <td>51.124999</td>\n",
       "      <td>51.225000</td>\n",
       "    </tr>\n",
       "    <tr>\n",
       "      <th>50%</th>\n",
       "      <td>56.950001</td>\n",
       "      <td>57.299999</td>\n",
       "      <td>56.750000</td>\n",
       "      <td>56.700001</td>\n",
       "      <td>56.650000</td>\n",
       "      <td>56.150000</td>\n",
       "      <td>56.350000</td>\n",
       "      <td>56.850000</td>\n",
       "      <td>56.900000</td>\n",
       "      <td>57.150000</td>\n",
       "      <td>57.350000</td>\n",
       "      <td>57.000000</td>\n",
       "      <td>57.450001</td>\n",
       "      <td>57.600000</td>\n",
       "      <td>58.049999</td>\n",
       "      <td>58.400002</td>\n",
       "      <td>58.699999</td>\n",
       "    </tr>\n",
       "    <tr>\n",
       "      <th>75%</th>\n",
       "      <td>63.425000</td>\n",
       "      <td>63.249999</td>\n",
       "      <td>63.775000</td>\n",
       "      <td>64.174997</td>\n",
       "      <td>64.275000</td>\n",
       "      <td>64.250002</td>\n",
       "      <td>64.699997</td>\n",
       "      <td>64.674997</td>\n",
       "      <td>64.674997</td>\n",
       "      <td>64.775002</td>\n",
       "      <td>64.775002</td>\n",
       "      <td>64.599998</td>\n",
       "      <td>64.275002</td>\n",
       "      <td>64.424999</td>\n",
       "      <td>64.750002</td>\n",
       "      <td>64.924999</td>\n",
       "      <td>64.975000</td>\n",
       "    </tr>\n",
       "    <tr>\n",
       "      <th>max</th>\n",
       "      <td>87.500000</td>\n",
       "      <td>87.199997</td>\n",
       "      <td>87.000000</td>\n",
       "      <td>87.699997</td>\n",
       "      <td>87.300003</td>\n",
       "      <td>86.800003</td>\n",
       "      <td>86.099998</td>\n",
       "      <td>85.900002</td>\n",
       "      <td>85.699997</td>\n",
       "      <td>85.099998</td>\n",
       "      <td>84.300003</td>\n",
       "      <td>84.000000</td>\n",
       "      <td>83.599998</td>\n",
       "      <td>83.400002</td>\n",
       "      <td>84.300003</td>\n",
       "      <td>84.099998</td>\n",
       "      <td>83.199997</td>\n",
       "    </tr>\n",
       "  </tbody>\n",
       "</table>\n",
       "</div>"
      ],
      "text/plain": [
       "             1991        1992        1993        1994        1995        1996  \\\n",
       "count  178.000000  178.000000  178.000000  178.000000  178.000000  178.000000   \n",
       "mean    57.732022   57.622472   57.396067   57.536517   57.607865   57.531461   \n",
       "std     11.083858   11.082125   11.154044   11.077853   10.933246   11.108913   \n",
       "min     29.299999   29.799999   30.400000   26.799999   32.599998   29.500000   \n",
       "25%     51.025000   50.800000   50.349999   50.649999   50.149999   50.550000   \n",
       "50%     56.950001   57.299999   56.750000   56.700001   56.650000   56.150000   \n",
       "75%     63.425000   63.249999   63.775000   64.174997   64.275000   64.250002   \n",
       "max     87.500000   87.199997   87.000000   87.699997   87.300003   86.800003   \n",
       "\n",
       "             1997        1998        1999        2000        2001        2002  \\\n",
       "count  178.000000  178.000000  178.000000  178.000000  178.000000  178.000000   \n",
       "mean    57.634832   57.699438   57.703371   57.804495   57.822472   57.747191   \n",
       "std     11.090660   10.996967   10.974119   10.893329   10.958378   10.901107   \n",
       "min     31.000000   33.400002   34.400002   33.599998   29.400000   26.600000   \n",
       "25%     50.400002   50.450001   50.500000   50.224998   50.825000   50.925001   \n",
       "50%     56.350000   56.850000   56.900000   57.150000   57.350000   57.000000   \n",
       "75%     64.699997   64.674997   64.674997   64.775002   64.775002   64.599998   \n",
       "max     86.099998   85.900002   85.699997   85.099998   84.300003   84.000000   \n",
       "\n",
       "             2003        2004        2005        2006        2007  \n",
       "count  178.000000  178.000000  178.000000  178.000000  178.000000  \n",
       "mean    57.747753   57.924157   58.108427   58.442135   58.635955  \n",
       "std     10.901185   10.827999   10.807143   10.618519   10.519454  \n",
       "min     29.400000   29.700001   31.400000   31.600000   32.000000  \n",
       "25%     51.124999   50.750001   50.925001   51.124999   51.225000  \n",
       "50%     57.450001   57.600000   58.049999   58.400002   58.699999  \n",
       "75%     64.275002   64.424999   64.750002   64.924999   64.975000  \n",
       "max     83.599998   83.400002   84.300003   84.099998   83.199997  "
      ]
     },
     "execution_count": 12,
     "metadata": {},
     "output_type": "execute_result"
    }
   ],
   "source": [
    "# describe the data:\n",
    "employment_above_15.describe()"
   ]
  },
  {
   "cell_type": "code",
   "execution_count": 13,
   "metadata": {},
   "outputs": [
    {
     "data": {
      "text/plain": [
       "57.73202246762136"
      ]
     },
     "execution_count": 13,
     "metadata": {},
     "output_type": "execute_result"
    }
   ],
   "source": [
    "employment_above_15['1991'].mean()"
   ]
  },
  {
   "cell_type": "code",
   "execution_count": null,
   "metadata": {},
   "outputs": [],
   "source": []
  },
  {
   "cell_type": "code",
   "execution_count": null,
   "metadata": {},
   "outputs": [],
   "source": []
  },
  {
   "cell_type": "code",
   "execution_count": null,
   "metadata": {},
   "outputs": [],
   "source": []
  },
  {
   "cell_type": "code",
   "execution_count": null,
   "metadata": {},
   "outputs": [],
   "source": []
  }
 ],
 "metadata": {
  "kernelspec": {
   "display_name": "Python 3",
   "language": "python",
   "name": "python3"
  },
  "language_info": {
   "codemirror_mode": {
    "name": "ipython",
    "version": 3
   },
   "file_extension": ".py",
   "mimetype": "text/x-python",
   "name": "python",
   "nbconvert_exporter": "python",
   "pygments_lexer": "ipython3",
   "version": "3.5.2"
  },
  "widgets": {
   "state": {},
   "version": "1.1.2"
  }
 },
 "nbformat": 4,
 "nbformat_minor": 2
}
